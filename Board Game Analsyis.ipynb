{
 "cells": [
  {
   "cell_type": "markdown",
   "metadata": {},
   "source": [
    "Board Game Analysis for Adam Bartoszek\n",
    "more explanation"
   ]
  },
  {
   "cell_type": "code",
   "execution_count": 1,
   "metadata": {},
   "outputs": [
    {
     "name": "stdout",
     "output_type": "stream",
     "text": [
      "['ID', 'Name', 'Year Published', 'Min Players', 'Max Players', 'Play Time', 'Min Age', 'Users Rated', 'Rating Average', 'BGG Rank', 'Complexity Average', 'Owned Users', 'Mechanics', 'Domains', 'objectname_jj', 'objectid_jj', 'rating_jj', 'numplays_jj', 'weight_jj', 'own_jj', 'fortrade_jj', 'want_jj', 'wanttobuy_jj', 'wanttoplay_jj', 'prevowned_jj', 'preordered_jj', 'wishlist_jj', 'wishlistpriority_jj', 'wishlistcomment_jj', 'comment_jj', 'conditiontext_jj', 'haspartslist_jj', 'wantpartslist_jj', 'collid_jj', 'baverage_jj', 'average_jj', 'avgweight_jj', 'rank_jj', 'numowned_jj', 'objecttype_jj', 'originalname_jj', 'minplayers_jj', 'maxplayers_jj', 'playingtime_jj', 'maxplaytime_jj', 'minplaytime_jj', 'yearpublished_jj', 'bggrecplayers_jj', 'bggbestplayers_jj', 'bggrecagerange_jj', 'bgglanguagedependence_jj', 'publisherid_jj', 'imageid_jj', 'year_jj', 'language_jj', 'other_jj', 'itemtype_jj', 'barcode_jj', 'version_publishers_jj', 'version_languages_jj', 'version_yearpublished_jj', 'version_nickname_jj', 'objectname_ab', 'objectid_ab', 'rating_ab', 'numplays_ab', 'weight_ab', 'own_ab', 'fortrade_ab', 'want_ab', 'wanttobuy_ab', 'wanttoplay_ab', 'prevowned_ab', 'preordered_ab', 'wishlist_ab', 'wishlistpriority_ab', 'wishlistcomment_ab', 'comment_ab', 'conditiontext_ab', 'haspartslist_ab', 'wantpartslist_ab', 'collid_ab', 'baverage_ab', 'average_ab', 'avgweight_ab', 'rank_ab', 'numowned_ab', 'objecttype_ab', 'originalname_ab', 'minplayers_ab', 'maxplayers_ab', 'playingtime_ab', 'maxplaytime_ab', 'minplaytime_ab', 'yearpublished_ab', 'bggrecplayers_ab', 'bggbestplayers_ab', 'bggrecagerange_ab', 'bgglanguagedependence_ab', 'publisherid_ab', 'imageid_ab', 'year_ab', 'language_ab', 'other_ab', 'itemtype_ab', 'barcode_ab', 'version_publishers_ab', 'version_languages_ab', 'version_yearpublished_ab', 'version_nickname_ab', 'objectid_comb']\n",
      "Number of rows: 20350\n"
     ]
    }
   ],
   "source": [
    "import pandas as pd\n",
    "import matplotlib.pyplot as plt\n",
    "from IPython.display import display, HTML\n",
    "\n",
    "ab_collection_path = \"./Collections/AB_Collection.csv\"\n",
    "jj_collection_path = \"./Collections//JJ_Collection.csv\"\n",
    "bgg_collection_path = \"./Collections//bgg_dataset.csv\"\n",
    "#mechanics_path = \"./Database_Tables_BGG/mechanics.csv\"\n",
    "subcat_path = \"./Database_Tables_BGG/subcategories.csv\"\n",
    "themes_path = \"./Database_Tables_BGG/themes.csv\"\n",
    "\n",
    "jj_df = pd.read_csv(jj_collection_path, sep=',')\n",
    "ab_df = pd.read_csv(ab_collection_path, sep=',')\n",
    "bgg_df = pd.read_csv(bgg_collection_path, sep=';')\n",
    "#mech_df = pd.read_csv(mechanics_path, sep=',')\n",
    "sub_df = pd.read_csv(subcat_path, sep=',')\n",
    "theme_df = pd.read_csv(themes_path, sep=',')\n",
    "\n",
    "def filter_dataframe(df):\n",
    "    # Filter out rows where 'itemtype' is not equal to 'expansion'\n",
    "    filtered_df = df[df['itemtype'] != 'expansion']\n",
    "    return filtered_df\n",
    "\n",
    "def apply_suffix(df, suffix):\n",
    "    # add suffix to all columns in DF to support easier separation and analysis\n",
    "    return df.add_suffix(suffix)\n",
    "\n",
    "jj_df_filtered = filter_dataframe(jj_df)\n",
    "ab_df_filtered = filter_dataframe(ab_df)\n",
    "\n",
    "jj_df_suffixed = apply_suffix(jj_df_filtered, '_jj')\n",
    "ab_df_suffixed = apply_suffix(ab_df_filtered, '_ab')\n",
    "\n",
    "ab_jj_outer = pd.merge(jj_df_suffixed, ab_df_suffixed, left_on='objectid_jj', right_on='objectid_ab', how='outer')\n",
    "ab_jj_outer['objectid_comb'] = ab_jj_outer['objectid_ab'].combine_first(ab_jj_outer['objectid_jj'])\n",
    "result = pd.merge(bgg_df, ab_jj_outer, left_on='ID', right_on='objectid_comb', how='left')\n",
    "\n",
    "#print(jj_df_suffixed.columns)\n",
    "#print(ab_df_suffixed.columns)\n",
    "#print(ab_jj_outer.columns)\n",
    "print(list(result.columns))\n",
    "row_count = result.count().max()\n",
    "print(f\"Number of rows: {row_count}\")"
   ]
  },
  {
   "cell_type": "code",
   "execution_count": null,
   "metadata": {},
   "outputs": [
    {
     "name": "stdout",
     "output_type": "stream",
     "text": [
      "20327\n",
      "1757\n",
      "298\n",
      "Out of the total 20327 games listed on Board Games Geek, Adam has 1757 or 8.64% and Jeff has 298 or 1.47%\n"
     ]
    }
   ],
   "source": [
    "#Analysis\n",
    "# Step 1: Count distinct values in 'ID' column\n",
    "distinct_id_count = result['ID'].nunique()\n",
    "\n",
    "# Step 2: Count distinct, non-NaN values in 'objectid_ab' column\n",
    "dist_objectid_ab = result[result['itemtype_ab'] != 'expansion']['objectid_ab'].dropna().loc[result['objectid_ab'] != ''].nunique()\n",
    "dist_objectid_jj = result[result['itemtype_jj'] != 'expansion']['objectid_jj'].dropna().loc[result['objectid_jj'] != ''].nunique()\n",
    "print(distinct_id_count)\n",
    "print(dist_objectid_ab)\n",
    "print(dist_objectid_jj)\n",
    "# Step 3: Calculate the percentage\n",
    "ab_totalperc = round((dist_objectid_ab / distinct_id_count) * 100, 2)\n",
    "jj_totalperc = round((dist_objectid_jj / distinct_id_count) * 100, 2)\n",
    "\n",
    "# Print the result\n",
    "print(f\"Out of the total {distinct_id_count} games listed on Board Games Geek, Adam has {dist_objectid_ab} or {ab_totalperc}% and Jeff has {dist_objectid_jj} or {jj_totalperc}%\") \n",
    "\n",
    "# Output the 'result' dataframe to an Excel file\n",
    "#result.to_excel('result.xlsx', index=False)\n",
    "#ab_jj_outer.to_excel('ab_jj_outer.xlsx', index=False)"
   ]
  }
 ],
 "metadata": {
  "kernelspec": {
   "display_name": "myenv",
   "language": "python",
   "name": "python3"
  },
  "language_info": {
   "codemirror_mode": {
    "name": "ipython",
    "version": 3
   },
   "file_extension": ".py",
   "mimetype": "text/x-python",
   "name": "python",
   "nbconvert_exporter": "python",
   "pygments_lexer": "ipython3",
   "version": "3.10.11"
  }
 },
 "nbformat": 4,
 "nbformat_minor": 2
}
