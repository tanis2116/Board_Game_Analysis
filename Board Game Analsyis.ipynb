{
 "cells": [
  {
   "cell_type": "markdown",
   "metadata": {},
   "source": [
    "Board Game Analysis for Adam Bartoszek\n",
    "more explanation"
   ]
  },
  {
   "cell_type": "code",
   "execution_count": 3,
   "metadata": {},
   "outputs": [],
   "source": [
    "import pandas as pd\n",
    "import matplotlib.pyplot as plt\n",
    "from IPython.display import display, HTML\n",
    "ab_collection_path = \"AB_Collection.csv\"\n",
    "jj_collection_path = \"JJ_Collection.csv\"\n",
    "bgg_collection_path = \"bgg_dataset.csv\""
   ]
  }
 ],
 "metadata": {
  "kernelspec": {
   "display_name": "myenv",
   "language": "python",
   "name": "python3"
  },
  "language_info": {
   "codemirror_mode": {
    "name": "ipython",
    "version": 3
   },
   "file_extension": ".py",
   "mimetype": "text/x-python",
   "name": "python",
   "nbconvert_exporter": "python",
   "pygments_lexer": "ipython3",
   "version": "3.10.11"
  }
 },
 "nbformat": 4,
 "nbformat_minor": 2
}
